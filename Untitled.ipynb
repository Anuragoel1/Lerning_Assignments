{
 "cells": [
  {
   "cell_type": "code",
   "execution_count": 4,
   "id": "10e7071d-34d9-4d4a-9d82-515b877eccf4",
   "metadata": {
    "tags": []
   },
   "outputs": [
    {
     "name": "stdout",
     "output_type": "stream",
     "text": [
      "40\n"
     ]
    }
   ],
   "source": [
    "a = 20\n",
    "b = 20\n",
    "print(a+b)"
   ]
  },
  {
   "cell_type": "code",
   "execution_count": 6,
   "id": "8a53b9b8-18ba-4224-983b-d9ba98e62eee",
   "metadata": {},
   "outputs": [
    {
     "name": "stdout",
     "output_type": "stream",
     "text": [
      "20\n"
     ]
    }
   ],
   "source": [
    "print(a)"
   ]
  },
  {
   "cell_type": "code",
   "execution_count": 4,
   "id": "509408d8-a8d1-4858-a07a-46e4bda4d888",
   "metadata": {
    "tags": []
   },
   "outputs": [
    {
     "name": "stdout",
     "output_type": "stream",
     "text": [
      "10\n"
     ]
    }
   ],
   "source": [
    "none = 10\n",
    "print(none)"
   ]
  },
  {
   "cell_type": "code",
   "execution_count": null,
   "id": "a32f4d48-0f0f-49f5-a548-7c7ff6ef35be",
   "metadata": {},
   "outputs": [],
   "source": [
    "None = 42"
   ]
  },
  {
   "cell_type": "code",
   "execution_count": 18,
   "id": "4d6fcb01-75a4-4747-9b98-dba706c9b67e",
   "metadata": {
    "tags": []
   },
   "outputs": [
    {
     "name": "stdout",
     "output_type": "stream",
     "text": [
      "10 5 hello 3.14\n"
     ]
    }
   ],
   "source": [
    "Class = 10\n",
    "Return = 5\n",
    "If = 'hello'\n",
    "Else = 3.14\n",
    "\n",
    "# Else = 3.15\n",
    "\n",
    "print(Class,Return,If,Else)"
   ]
  },
  {
   "cell_type": "code",
   "execution_count": 17,
   "id": "91ef2d2f-20ea-4f02-8abd-009a03fb280c",
   "metadata": {},
   "outputs": [
    {
     "name": "stdout",
     "output_type": "stream",
     "text": [
      "['False', 'None', 'True', 'and', 'as', 'assert', 'async', 'await', 'break', 'class', 'continue', 'def', 'del', 'elif', 'else', 'except', 'finally', 'for', 'from', 'global', 'if', 'import', 'in', 'is', 'lambda', 'nonlocal', 'not', 'or', 'pass', 'raise', 'return', 'try', 'while', 'with', 'yield']\n"
     ]
    }
   ],
   "source": [
    "import keyword\n",
    "print(keyword.kwlist)"
   ]
  },
  {
   "cell_type": "code",
   "execution_count": 39,
   "id": "409968f1-3c46-4bdf-91d8-1510a93f409d",
   "metadata": {},
   "outputs": [],
   "source": [
    "def add_number(a,b):\n",
    "    \"\"\"\n",
    "    parameters:\n",
    "    a = anurag\n",
    "    b = babita\n",
    "    Return: The sum of a+b\n",
    "    \"\"\"\n",
    "    return a + b"
   ]
  },
  {
   "cell_type": "code",
   "execution_count": 40,
   "id": "80e664ac-e4d5-4fce-8218-6bfe568651dc",
   "metadata": {},
   "outputs": [
    {
     "name": "stdout",
     "output_type": "stream",
     "text": [
      "\n",
      "    parameters:\n",
      "    a = anurag\n",
      "    b = babita\n",
      "    Return: The sum of a+b\n",
      "    \n"
     ]
    }
   ],
   "source": [
    "print(add_number.__doc__)"
   ]
  },
  {
   "cell_type": "code",
   "execution_count": 43,
   "id": "360cf2eb-6363-4be0-894c-f7610905a82d",
   "metadata": {},
   "outputs": [
    {
     "name": "stdout",
     "output_type": "stream",
     "text": [
      "30\n"
     ]
    }
   ],
   "source": [
    "print(a+b)"
   ]
  },
  {
   "cell_type": "code",
   "execution_count": 44,
   "id": "a268b351-b3e1-40c3-8720-d00057880fac",
   "metadata": {},
   "outputs": [
    {
     "name": "stdout",
     "output_type": "stream",
     "text": [
      "\n",
      "    parameters:\n",
      "    a = anurag\n",
      "    b = babita\n",
      "    Return: The sum of a+b\n",
      "    \n"
     ]
    }
   ],
   "source": [
    "print(add_number.__doc__)"
   ]
  },
  {
   "cell_type": "code",
   "execution_count": 45,
   "id": "e313232e-6e59-42ac-b793-101ee39840f9",
   "metadata": {},
   "outputs": [],
   "source": [
    "def subtract_number(a,b):\n",
    "    \"\"\"\n",
    "    to subtract a from b thats simple, please do not manipulate this syntex\n",
    "    \n",
    "    \"\"\"\n",
    "    \n",
    "    return (a-b)"
   ]
  },
  {
   "cell_type": "code",
   "execution_count": 46,
   "id": "64b50a6e-2f9c-44da-87d7-d0944da04f3c",
   "metadata": {},
   "outputs": [
    {
     "name": "stdout",
     "output_type": "stream",
     "text": [
      "\n",
      "    to subtract a from b thats simple, please do not manipulate this syntex\n",
      "    \n",
      "    \n"
     ]
    }
   ],
   "source": [
    "print(subtract_number.__doc__)"
   ]
  },
  {
   "cell_type": "code",
   "execution_count": 51,
   "id": "57b2d414-05b1-4409-9ade-ddbeed07ee96",
   "metadata": {},
   "outputs": [
    {
     "name": "stdout",
     "output_type": "stream",
     "text": [
      "0\n"
     ]
    }
   ],
   "source": [
    "print (subtract_number(a,b))"
   ]
  },
  {
   "cell_type": "code",
   "execution_count": null,
   "id": "8161a5f4-ee23-4c83-ba21-d9ee7f313238",
   "metadata": {
    "tags": []
   },
   "outputs": [],
   "source": [
    "if True:\n",
    "    print(\"hello anurag\")"
   ]
  },
  {
   "cell_type": "code",
   "execution_count": 62,
   "id": "02e4b2b1-dcf6-4f00-8be5-b0111e5c48a1",
   "metadata": {},
   "outputs": [
    {
     "name": "stdout",
     "output_type": "stream",
     "text": [
      "This is true\n",
      "i\n",
      "i\n",
      "i\n"
     ]
    }
   ],
   "source": [
    "if True:\n",
    "    print(\"This is true\")\n",
    "for i in range (3):\n",
    "    print (\"i\")\n",
    "def hello():\n",
    "    print(\"hello world\")\n",
    "while False:\n",
    "    print(\"this wont print\")"
   ]
  },
  {
   "cell_type": "code",
   "execution_count": 12,
   "id": "2dd12e46-1efc-4a95-846a-6786c4fa2e7e",
   "metadata": {},
   "outputs": [
    {
     "name": "stdout",
     "output_type": "stream",
     "text": [
      "positive number\n",
      "pos\n"
     ]
    }
   ],
   "source": [
    "x = 3\n",
    "y=5\n",
    "z=10\n",
    "if x>2:\n",
    "    print(\"positive number\")\n",
    "if y>4:\n",
    "    print(\"pos\")"
   ]
  },
  {
   "cell_type": "code",
   "execution_count": 10,
   "id": "9f8fccbc-e31d-46dc-83ef-e84684e7335b",
   "metadata": {},
   "outputs": [
    {
     "name": "stdout",
     "output_type": "stream",
     "text": [
      "bravo\n"
     ]
    }
   ],
   "source": [
    "s = (1+2+3+4+5+212121212\n",
    "     +77+21212\n",
    "     +555445)\n",
    "x=1\n",
    "if s>x:\n",
    "    print(\"bravo\")"
   ]
  },
  {
   "cell_type": "code",
   "execution_count": 13,
   "id": "2a99db3b-cb2a-463c-92ee-2a6c380b3a29",
   "metadata": {},
   "outputs": [
    {
     "name": "stdout",
     "output_type": "stream",
     "text": [
      "212697961\n"
     ]
    }
   ],
   "source": [
    "print(s)"
   ]
  },
  {
   "cell_type": "code",
   "execution_count": 24,
   "id": "5b0946c1-e793-426c-aa72-8160bbba0c96",
   "metadata": {},
   "outputs": [
    {
     "name": "stdout",
     "output_type": "stream",
     "text": [
      "{'name': 'Tom', 'Height': '5.5', 'Percentage': 66}\n"
     ]
    }
   ],
   "source": [
    "person = {\"name\":\"Tom\", \"Height\": \"5.5\", \"Percentage\": 66}\n",
    "print(person)"
   ]
  },
  {
   "cell_type": "code",
   "execution_count": 27,
   "id": "76cc6e6d-9951-4f83-98a9-ee506e112a94",
   "metadata": {},
   "outputs": [
    {
     "name": "stdin",
     "output_type": "stream",
     "text": [
      "enter your name anurag\n"
     ]
    },
    {
     "name": "stdout",
     "output_type": "stream",
     "text": [
      "how are you, anurag\n"
     ]
    }
   ],
   "source": [
    "name = input(\"enter your name\")\n",
    "print(f\"how are you, {name}\")"
   ]
  },
  {
   "cell_type": "code",
   "execution_count": 34,
   "id": "75bcb11b-e13a-4a91-ad43-0860e0ef55af",
   "metadata": {},
   "outputs": [
    {
     "name": "stdin",
     "output_type": "stream",
     "text": [
      "date of birth 11 may\n"
     ]
    },
    {
     "name": "stdout",
     "output_type": "stream",
     "text": [
      "date of birth is, 11 may\n"
     ]
    }
   ],
   "source": [
    "dob = input(\"date of birth\")\n",
    "print(f\"date of birth is, {dob}\")"
   ]
  },
  {
   "cell_type": "code",
   "execution_count": 38,
   "id": "ca78304b-0973-42d2-978d-b97305979698",
   "metadata": {},
   "outputs": [
    {
     "name": "stdin",
     "output_type": "stream",
     "text": [
      "what is your name anurag\n"
     ]
    },
    {
     "name": "stdout",
     "output_type": "stream",
     "text": [
      "how may i help you, anurag where do you put up,anurag\n"
     ]
    }
   ],
   "source": [
    "name = input(\"what is your name\")\n",
    "print(f\"how may i help you, {name}\",f\"where do you put up,{name}\")"
   ]
  },
  {
   "cell_type": "code",
   "execution_count": 39,
   "id": "11b801f8-dc4c-4948-8908-d93b57f7ef9c",
   "metadata": {},
   "outputs": [
    {
     "data": {
      "text/plain": [
       "2"
      ]
     },
     "execution_count": 39,
     "metadata": {},
     "output_type": "execute_result"
    }
   ],
   "source": [
    "1+1"
   ]
  },
  {
   "cell_type": "code",
   "execution_count": null,
   "id": "c3f3ca58-89b5-40e2-ab19-7ee8f2febc09",
   "metadata": {},
   "outputs": [],
   "source": []
  }
 ],
 "metadata": {
  "kernelspec": {
   "display_name": "Python 3 (ipykernel)",
   "language": "python",
   "name": "python3"
  },
  "language_info": {
   "codemirror_mode": {
    "name": "ipython",
    "version": 3
   },
   "file_extension": ".py",
   "mimetype": "text/x-python",
   "name": "python",
   "nbconvert_exporter": "python",
   "pygments_lexer": "ipython3",
   "version": "3.10.6"
  }
 },
 "nbformat": 4,
 "nbformat_minor": 5
}
